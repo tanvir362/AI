{
  "nbformat": 4,
  "nbformat_minor": 0,
  "metadata": {
    "kernelspec": {
      "display_name": "Python 3",
      "language": "python",
      "name": "python3"
    },
    "language_info": {
      "codemirror_mode": {
        "name": "ipython",
        "version": 3
      },
      "file_extension": ".py",
      "mimetype": "text/x-python",
      "name": "python",
      "nbconvert_exporter": "python",
      "pygments_lexer": "ipython3",
      "version": "3.7.3"
    },
    "colab": {
      "name": "15162103110_lab1.ipynb",
      "provenance": [],
      "collapsed_sections": [],
      "toc_visible": true
    }
  },
  "cells": [
    {
      "cell_type": "code",
      "metadata": {
        "id": "B3Lzilj3gY1w",
        "colab_type": "code",
        "outputId": "2f1eb05d-0f55-4430-f46d-d24409a8bd19",
        "colab": {
          "base_uri": "https://localhost:8080/",
          "height": 122
        }
      },
      "source": [
        "from google.colab import drive\n",
        "drive.mount('/content/drive')"
      ],
      "execution_count": 0,
      "outputs": [
        {
          "output_type": "stream",
          "text": [
            "Go to this URL in a browser: https://accounts.google.com/o/oauth2/auth?client_id=947318989803-6bn6qk8qdgf4n4g3pfee6491hc0brc4i.apps.googleusercontent.com&redirect_uri=urn%3Aietf%3Awg%3Aoauth%3A2.0%3Aoob&scope=email%20https%3A%2F%2Fwww.googleapis.com%2Fauth%2Fdocs.test%20https%3A%2F%2Fwww.googleapis.com%2Fauth%2Fdrive%20https%3A%2F%2Fwww.googleapis.com%2Fauth%2Fdrive.photos.readonly%20https%3A%2F%2Fwww.googleapis.com%2Fauth%2Fpeopleapi.readonly&response_type=code\n",
            "\n",
            "Enter your authorization code:\n",
            "··········\n",
            "Mounted at /content/drive\n"
          ],
          "name": "stdout"
        }
      ]
    },
    {
      "cell_type": "code",
      "metadata": {
        "id": "SK8rEP6DyDKb",
        "colab_type": "code",
        "outputId": "bf462a06-5d69-48ff-a032-315a12aa853d",
        "colab": {
          "base_uri": "https://localhost:8080/",
          "height": 258
        }
      },
      "source": [
        "import numpy as np\n",
        "import pandas as pd\n",
        "cpath = \"/content/drive/My Drive/Study/12th Sem/Data Mining/Lab/15-10-19/\"\n",
        "data = pd.read_csv(cpath+\"HCV-Egy-Data.csv\")\n",
        "data.head()\n"
      ],
      "execution_count": 57,
      "outputs": [
        {
          "output_type": "execute_result",
          "data": {
            "text/html": [
              "<div>\n",
              "<style scoped>\n",
              "    .dataframe tbody tr th:only-of-type {\n",
              "        vertical-align: middle;\n",
              "    }\n",
              "\n",
              "    .dataframe tbody tr th {\n",
              "        vertical-align: top;\n",
              "    }\n",
              "\n",
              "    .dataframe thead th {\n",
              "        text-align: right;\n",
              "    }\n",
              "</style>\n",
              "<table border=\"1\" class=\"dataframe\">\n",
              "  <thead>\n",
              "    <tr style=\"text-align: right;\">\n",
              "      <th></th>\n",
              "      <th>Age</th>\n",
              "      <th>Gender</th>\n",
              "      <th>BMI</th>\n",
              "      <th>Fever</th>\n",
              "      <th>Nausea/Vomting</th>\n",
              "      <th>Headache</th>\n",
              "      <th>Diarrhea</th>\n",
              "      <th>Fatigue &amp; generalized bone ache</th>\n",
              "      <th>Jaundice</th>\n",
              "      <th>Epigastric pain</th>\n",
              "      <th>WBC</th>\n",
              "      <th>RBC</th>\n",
              "      <th>HGB</th>\n",
              "      <th>Plat</th>\n",
              "      <th>AST 1</th>\n",
              "      <th>ALT 1</th>\n",
              "      <th>ALT4</th>\n",
              "      <th>ALT 12</th>\n",
              "      <th>ALT 24</th>\n",
              "      <th>ALT 36</th>\n",
              "      <th>ALT 48</th>\n",
              "      <th>ALT after 24 w</th>\n",
              "      <th>RNA Base</th>\n",
              "      <th>RNA 4</th>\n",
              "      <th>RNA 12</th>\n",
              "      <th>RNA EOT</th>\n",
              "      <th>RNA EF</th>\n",
              "      <th>Baseline histological Grading</th>\n",
              "      <th>Baselinehistological staging</th>\n",
              "    </tr>\n",
              "  </thead>\n",
              "  <tbody>\n",
              "    <tr>\n",
              "      <th>0</th>\n",
              "      <td>56</td>\n",
              "      <td>1</td>\n",
              "      <td>35</td>\n",
              "      <td>2</td>\n",
              "      <td>1</td>\n",
              "      <td>1</td>\n",
              "      <td>1</td>\n",
              "      <td>2</td>\n",
              "      <td>2</td>\n",
              "      <td>2</td>\n",
              "      <td>7425</td>\n",
              "      <td>4248807.0</td>\n",
              "      <td>14</td>\n",
              "      <td>112132.0</td>\n",
              "      <td>99</td>\n",
              "      <td>84</td>\n",
              "      <td>52.0</td>\n",
              "      <td>109</td>\n",
              "      <td>81</td>\n",
              "      <td>5</td>\n",
              "      <td>5</td>\n",
              "      <td>5</td>\n",
              "      <td>655330</td>\n",
              "      <td>634536</td>\n",
              "      <td>288194</td>\n",
              "      <td>5</td>\n",
              "      <td>5</td>\n",
              "      <td>13</td>\n",
              "      <td>2</td>\n",
              "    </tr>\n",
              "    <tr>\n",
              "      <th>1</th>\n",
              "      <td>46</td>\n",
              "      <td>1</td>\n",
              "      <td>29</td>\n",
              "      <td>1</td>\n",
              "      <td>2</td>\n",
              "      <td>2</td>\n",
              "      <td>1</td>\n",
              "      <td>2</td>\n",
              "      <td>2</td>\n",
              "      <td>1</td>\n",
              "      <td>12101</td>\n",
              "      <td>4429425.0</td>\n",
              "      <td>10</td>\n",
              "      <td>129367.0</td>\n",
              "      <td>91</td>\n",
              "      <td>123</td>\n",
              "      <td>95.0</td>\n",
              "      <td>75</td>\n",
              "      <td>113</td>\n",
              "      <td>57</td>\n",
              "      <td>123</td>\n",
              "      <td>44</td>\n",
              "      <td>40620</td>\n",
              "      <td>538635</td>\n",
              "      <td>637056</td>\n",
              "      <td>336804</td>\n",
              "      <td>31085</td>\n",
              "      <td>4</td>\n",
              "      <td>2</td>\n",
              "    </tr>\n",
              "    <tr>\n",
              "      <th>2</th>\n",
              "      <td>57</td>\n",
              "      <td>1</td>\n",
              "      <td>33</td>\n",
              "      <td>2</td>\n",
              "      <td>2</td>\n",
              "      <td>2</td>\n",
              "      <td>2</td>\n",
              "      <td>1</td>\n",
              "      <td>1</td>\n",
              "      <td>1</td>\n",
              "      <td>4178</td>\n",
              "      <td>4621191.0</td>\n",
              "      <td>12</td>\n",
              "      <td>151522.0</td>\n",
              "      <td>113</td>\n",
              "      <td>49</td>\n",
              "      <td>95.0</td>\n",
              "      <td>107</td>\n",
              "      <td>116</td>\n",
              "      <td>5</td>\n",
              "      <td>5</td>\n",
              "      <td>5</td>\n",
              "      <td>571148</td>\n",
              "      <td>661346</td>\n",
              "      <td>5</td>\n",
              "      <td>735945</td>\n",
              "      <td>558829</td>\n",
              "      <td>4</td>\n",
              "      <td>4</td>\n",
              "    </tr>\n",
              "    <tr>\n",
              "      <th>3</th>\n",
              "      <td>49</td>\n",
              "      <td>2</td>\n",
              "      <td>33</td>\n",
              "      <td>1</td>\n",
              "      <td>2</td>\n",
              "      <td>1</td>\n",
              "      <td>2</td>\n",
              "      <td>1</td>\n",
              "      <td>2</td>\n",
              "      <td>1</td>\n",
              "      <td>6490</td>\n",
              "      <td>4794631.0</td>\n",
              "      <td>10</td>\n",
              "      <td>146457.0</td>\n",
              "      <td>43</td>\n",
              "      <td>64</td>\n",
              "      <td>109.0</td>\n",
              "      <td>80</td>\n",
              "      <td>88</td>\n",
              "      <td>48</td>\n",
              "      <td>77</td>\n",
              "      <td>33</td>\n",
              "      <td>1041941</td>\n",
              "      <td>449939</td>\n",
              "      <td>585688</td>\n",
              "      <td>744463</td>\n",
              "      <td>582301</td>\n",
              "      <td>10</td>\n",
              "      <td>3</td>\n",
              "    </tr>\n",
              "    <tr>\n",
              "      <th>4</th>\n",
              "      <td>59</td>\n",
              "      <td>1</td>\n",
              "      <td>32</td>\n",
              "      <td>1</td>\n",
              "      <td>1</td>\n",
              "      <td>2</td>\n",
              "      <td>1</td>\n",
              "      <td>2</td>\n",
              "      <td>2</td>\n",
              "      <td>2</td>\n",
              "      <td>3661</td>\n",
              "      <td>4606375.0</td>\n",
              "      <td>11</td>\n",
              "      <td>187684.0</td>\n",
              "      <td>99</td>\n",
              "      <td>104</td>\n",
              "      <td>67.0</td>\n",
              "      <td>48</td>\n",
              "      <td>120</td>\n",
              "      <td>94</td>\n",
              "      <td>90</td>\n",
              "      <td>30</td>\n",
              "      <td>660410</td>\n",
              "      <td>738756</td>\n",
              "      <td>3731527</td>\n",
              "      <td>338946</td>\n",
              "      <td>242861</td>\n",
              "      <td>11</td>\n",
              "      <td>1</td>\n",
              "    </tr>\n",
              "  </tbody>\n",
              "</table>\n",
              "</div>"
            ],
            "text/plain": [
              "   Age   Gender  ...  Baseline histological Grading  Baselinehistological staging\n",
              "0    56       1  ...                             13                             2\n",
              "1    46       1  ...                              4                             2\n",
              "2    57       1  ...                              4                             4\n",
              "3    49       2  ...                             10                             3\n",
              "4    59       1  ...                             11                             1\n",
              "\n",
              "[5 rows x 29 columns]"
            ]
          },
          "metadata": {
            "tags": []
          },
          "execution_count": 57
        }
      ]
    },
    {
      "cell_type": "code",
      "metadata": {
        "scrolled": true,
        "id": "uPhHX5f5yDKi",
        "colab_type": "code",
        "colab": {}
      },
      "source": [
        "\n",
        "        \n"
      ],
      "execution_count": 0,
      "outputs": []
    },
    {
      "cell_type": "code",
      "metadata": {
        "id": "_QbypiFVyDKm",
        "colab_type": "code",
        "outputId": "9940ab9d-92ec-44f2-cddd-0e1d0bcf2d07",
        "colab": {
          "base_uri": "https://localhost:8080/",
          "height": 34
        }
      },
      "source": [
        "#finding 5 columns that have strong correllation with class attribute\n",
        "cr = data.corr()\n",
        "columns = data.columns \n",
        "#print(columns)\n",
        "#print(cr)\n",
        "dict = {}\n",
        "indx = 0\n",
        "for i in cr['Baselinehistological staging']:\n",
        "    dict[columns[indx]] = abs(i)\n",
        "    indx = indx +1\n",
        "\n",
        "import operator\n",
        "sorted_dict = sorted(dict.items(), key=operator.itemgetter(1))\n",
        "#for i in sorted_dict:\n",
        "#    print(\"{}              {}\".format(i[0], i[1]))\n",
        "\n",
        "s = len(sorted_dict)\n",
        "selected_columns = []\n",
        "for i in range(s-2, s-7, -1):\n",
        "    selected_columns.append(sorted_dict[i][0])\n",
        "\n",
        "#print(\"Selected Columns: \")\n",
        "print(selected_columns)\n"
      ],
      "execution_count": 76,
      "outputs": [
        {
          "output_type": "stream",
          "text": [
            "['BMI', 'Nausea/Vomting', 'Epigastric pain ', 'Baseline histological Grading', 'ALT 1']\n"
          ],
          "name": "stdout"
        }
      ]
    },
    {
      "cell_type": "code",
      "metadata": {
        "id": "KOJ5ce_ryDKr",
        "colab_type": "code",
        "outputId": "041293f3-6f51-4349-f678-e882fece8b18",
        "colab": {
          "base_uri": "https://localhost:8080/",
          "height": 204
        }
      },
      "source": [
        "selected_data = data[selected_columns+['Baselinehistological staging']].copy()\n",
        "selected_data.head()"
      ],
      "execution_count": 105,
      "outputs": [
        {
          "output_type": "execute_result",
          "data": {
            "text/html": [
              "<div>\n",
              "<style scoped>\n",
              "    .dataframe tbody tr th:only-of-type {\n",
              "        vertical-align: middle;\n",
              "    }\n",
              "\n",
              "    .dataframe tbody tr th {\n",
              "        vertical-align: top;\n",
              "    }\n",
              "\n",
              "    .dataframe thead th {\n",
              "        text-align: right;\n",
              "    }\n",
              "</style>\n",
              "<table border=\"1\" class=\"dataframe\">\n",
              "  <thead>\n",
              "    <tr style=\"text-align: right;\">\n",
              "      <th></th>\n",
              "      <th>BMI</th>\n",
              "      <th>Nausea/Vomting</th>\n",
              "      <th>Epigastric pain</th>\n",
              "      <th>Baseline histological Grading</th>\n",
              "      <th>ALT 1</th>\n",
              "      <th>Baselinehistological staging</th>\n",
              "    </tr>\n",
              "  </thead>\n",
              "  <tbody>\n",
              "    <tr>\n",
              "      <th>0</th>\n",
              "      <td>35</td>\n",
              "      <td>1</td>\n",
              "      <td>2</td>\n",
              "      <td>13</td>\n",
              "      <td>84</td>\n",
              "      <td>2</td>\n",
              "    </tr>\n",
              "    <tr>\n",
              "      <th>1</th>\n",
              "      <td>29</td>\n",
              "      <td>2</td>\n",
              "      <td>1</td>\n",
              "      <td>4</td>\n",
              "      <td>123</td>\n",
              "      <td>2</td>\n",
              "    </tr>\n",
              "    <tr>\n",
              "      <th>2</th>\n",
              "      <td>33</td>\n",
              "      <td>2</td>\n",
              "      <td>1</td>\n",
              "      <td>4</td>\n",
              "      <td>49</td>\n",
              "      <td>4</td>\n",
              "    </tr>\n",
              "    <tr>\n",
              "      <th>3</th>\n",
              "      <td>33</td>\n",
              "      <td>2</td>\n",
              "      <td>1</td>\n",
              "      <td>10</td>\n",
              "      <td>64</td>\n",
              "      <td>3</td>\n",
              "    </tr>\n",
              "    <tr>\n",
              "      <th>4</th>\n",
              "      <td>32</td>\n",
              "      <td>1</td>\n",
              "      <td>2</td>\n",
              "      <td>11</td>\n",
              "      <td>104</td>\n",
              "      <td>1</td>\n",
              "    </tr>\n",
              "  </tbody>\n",
              "</table>\n",
              "</div>"
            ],
            "text/plain": [
              "   BMI  Nausea/Vomting  ...  ALT 1  Baselinehistological staging\n",
              "0   35               1  ...     84                             2\n",
              "1   29               2  ...    123                             2\n",
              "2   33               2  ...     49                             4\n",
              "3   33               2  ...     64                             3\n",
              "4   32               1  ...    104                             1\n",
              "\n",
              "[5 rows x 6 columns]"
            ]
          },
          "metadata": {
            "tags": []
          },
          "execution_count": 105
        }
      ]
    },
    {
      "cell_type": "code",
      "metadata": {
        "id": "wdZqpJy0gSGt",
        "colab_type": "code",
        "colab": {
          "base_uri": "https://localhost:8080/",
          "height": 286
        },
        "outputId": "979f2227-7f51-4c4b-9d8c-9a20ecef66f8"
      },
      "source": [
        "selected_data.boxplot()"
      ],
      "execution_count": 100,
      "outputs": [
        {
          "output_type": "execute_result",
          "data": {
            "text/plain": [
              "<matplotlib.axes._subplots.AxesSubplot at 0x7fd38d954da0>"
            ]
          },
          "metadata": {
            "tags": []
          },
          "execution_count": 100
        },
        {
          "output_type": "display_data",
          "data": {
            "image/png": "[encoded data removed]",
            "text/plain": [
              "<Figure size 432x288 with 1 Axes>"
            ]
          },
          "metadata": {
            "tags": []
          }
        }
      ]
    },
    {
      "cell_type": "code",
      "metadata": {
        "id": "feFrXA4juodi",
        "colab_type": "code",
        "colab": {
          "base_uri": "https://localhost:8080/",
          "height": 204
        },
        "outputId": "b1567a22-8e1f-4935-98e7-cdcc2709c170"
      },
      "source": [
        "#Removing Outlier\n",
        "\n",
        "for i in selected_columns:\n",
        "    p5 = np.percentile(selected_data[i],5)\n",
        "    p95 = np.percentile(selected_data[i],95)\n",
        "    indx = 0\n",
        "    print(\"{}  size  {}\".format(i, len(selected_data[i])))\n",
        "    for j in selected_data[i]:\n",
        "        try:\n",
        "            if j <= p5 or j >= p95:\n",
        "                selected_data.drop(selected_data.index[indx], inplace=True)\n",
        "        except:\n",
        "            pass\n",
        "            #print(\"In {}  error at {}\".format(i, indx))\n",
        "        indx = indx + 1\n",
        "\n",
        "print(\"After dropping\")\n",
        "for i in selected_columns:\n",
        "    print(\"{}  size  {}\".format(i, len(selected_data[i])))"
      ],
      "execution_count": 101,
      "outputs": [
        {
          "output_type": "stream",
          "text": [
            "BMI  size  1385\n",
            "Nausea/Vomting  size  1212\n",
            "Epigastric pain   size  606\n",
            "Baseline histological Grading  size  303\n",
            "ALT 1  size  270\n",
            "After dropping\n",
            "BMI  size  246\n",
            "Nausea/Vomting  size  246\n",
            "Epigastric pain   size  246\n",
            "Baseline histological Grading  size  246\n",
            "ALT 1  size  246\n"
          ],
          "name": "stdout"
        }
      ]
    },
    {
      "cell_type": "code",
      "metadata": {
        "id": "V9Mac_lnmEjC",
        "colab_type": "code",
        "colab": {
          "base_uri": "https://localhost:8080/",
          "height": 286
        },
        "outputId": "c4df471c-7cee-4e4f-bdcb-615be6dcf216"
      },
      "source": [
        "#Corrlation of final data\n",
        "selected_data.corr()"
      ],
      "execution_count": 94,
      "outputs": [
        {
          "output_type": "execute_result",
          "data": {
            "text/html": [
              "<div>\n",
              "<style scoped>\n",
              "    .dataframe tbody tr th:only-of-type {\n",
              "        vertical-align: middle;\n",
              "    }\n",
              "\n",
              "    .dataframe tbody tr th {\n",
              "        vertical-align: top;\n",
              "    }\n",
              "\n",
              "    .dataframe thead th {\n",
              "        text-align: right;\n",
              "    }\n",
              "</style>\n",
              "<table border=\"1\" class=\"dataframe\">\n",
              "  <thead>\n",
              "    <tr style=\"text-align: right;\">\n",
              "      <th></th>\n",
              "      <th>BMI</th>\n",
              "      <th>Nausea/Vomting</th>\n",
              "      <th>Epigastric pain</th>\n",
              "      <th>Baseline histological Grading</th>\n",
              "      <th>ALT 1</th>\n",
              "      <th>Baselinehistological staging</th>\n",
              "    </tr>\n",
              "  </thead>\n",
              "  <tbody>\n",
              "    <tr>\n",
              "      <th>BMI</th>\n",
              "      <td>1.000000</td>\n",
              "      <td>-0.064899</td>\n",
              "      <td>0.203767</td>\n",
              "      <td>-0.179306</td>\n",
              "      <td>0.138633</td>\n",
              "      <td>-0.103056</td>\n",
              "    </tr>\n",
              "    <tr>\n",
              "      <th>Nausea/Vomting</th>\n",
              "      <td>-0.064899</td>\n",
              "      <td>1.000000</td>\n",
              "      <td>-0.322063</td>\n",
              "      <td>-0.198084</td>\n",
              "      <td>-0.050200</td>\n",
              "      <td>0.197878</td>\n",
              "    </tr>\n",
              "    <tr>\n",
              "      <th>Epigastric pain</th>\n",
              "      <td>0.203767</td>\n",
              "      <td>-0.322063</td>\n",
              "      <td>1.000000</td>\n",
              "      <td>-0.089922</td>\n",
              "      <td>0.170003</td>\n",
              "      <td>-0.079528</td>\n",
              "    </tr>\n",
              "    <tr>\n",
              "      <th>Baseline histological Grading</th>\n",
              "      <td>-0.179306</td>\n",
              "      <td>-0.198084</td>\n",
              "      <td>-0.089922</td>\n",
              "      <td>1.000000</td>\n",
              "      <td>0.008743</td>\n",
              "      <td>-0.149001</td>\n",
              "    </tr>\n",
              "    <tr>\n",
              "      <th>ALT 1</th>\n",
              "      <td>0.138633</td>\n",
              "      <td>-0.050200</td>\n",
              "      <td>0.170003</td>\n",
              "      <td>0.008743</td>\n",
              "      <td>1.000000</td>\n",
              "      <td>-0.062117</td>\n",
              "    </tr>\n",
              "    <tr>\n",
              "      <th>Baselinehistological staging</th>\n",
              "      <td>-0.103056</td>\n",
              "      <td>0.197878</td>\n",
              "      <td>-0.079528</td>\n",
              "      <td>-0.149001</td>\n",
              "      <td>-0.062117</td>\n",
              "      <td>1.000000</td>\n",
              "    </tr>\n",
              "  </tbody>\n",
              "</table>\n",
              "</div>"
            ],
            "text/plain": [
              "                                    BMI  ...  Baselinehistological staging\n",
              "BMI                            1.000000  ...                     -0.103056\n",
              "Nausea/Vomting                -0.064899  ...                      0.197878\n",
              "Epigastric pain                0.203767  ...                     -0.079528\n",
              "Baseline histological Grading -0.179306  ...                     -0.149001\n",
              "ALT 1                          0.138633  ...                     -0.062117\n",
              "Baselinehistological staging  -0.103056  ...                      1.000000\n",
              "\n",
              "[6 rows x 6 columns]"
            ]
          },
          "metadata": {
            "tags": []
          },
          "execution_count": 94
        }
      ]
    },
    {
      "cell_type": "code",
      "metadata": {
        "id": "jhOh3D1geZsU",
        "colab_type": "code",
        "colab": {
          "base_uri": "https://localhost:8080/",
          "height": 731
        },
        "outputId": "00e36c42-d2f7-4d35-e6e1-915c6a7a7725"
      },
      "source": [
        "for i in selected_data.columns:\n",
        "    print(\"{}:\".format(i))\n",
        "    print(\"\\tMax: {}\".format(selected_data[i].max()))\n",
        "    print(\"\\tMin: {}\".format(selected_data[i].min()))\n",
        "    print(\"\\tMean: {}\".format(selected_data[i].mean()))\n",
        "    print(\"\\tMedian: {}\".format(selected_data[i].median()))\n",
        "    print(\"\\t50th percentile: {}\".format(np.percentile(selected_data[i],50)))\n",
        "    print(\"\\tStandard deviation: {}\".format(selected_data[i].std()))"
      ],
      "execution_count": 96,
      "outputs": [
        {
          "output_type": "stream",
          "text": [
            "BMI:\n",
            "\tMax: 35\n",
            "\tMin: 22\n",
            "\tMean: 28.511627906976745\n",
            "\tMedian: 29.0\n",
            "\t50th percentile: 29.0\n",
            "\tStandard deviation: 4.255931955592245\n",
            "Nausea/Vomting:\n",
            "\tMax: 2\n",
            "\tMin: 1\n",
            "\tMean: 1.5813953488372092\n",
            "\tMedian: 2.0\n",
            "\t50th percentile: 2.0\n",
            "\tStandard deviation: 0.49916874422979135\n",
            "Epigastric pain :\n",
            "\tMax: 2\n",
            "\tMin: 1\n",
            "\tMean: 1.372093023255814\n",
            "\tMedian: 1.0\n",
            "\t50th percentile: 1.0\n",
            "\tStandard deviation: 0.48908348756353354\n",
            "Baseline histological Grading:\n",
            "\tMax: 16\n",
            "\tMin: 3\n",
            "\tMean: 9.046511627906977\n",
            "\tMedian: 9.0\n",
            "\t50th percentile: 9.0\n",
            "\tStandard deviation: 3.6511804247269395\n",
            "ALT 1:\n",
            "\tMax: 127\n",
            "\tMin: 39\n",
            "\tMean: 85.55813953488372\n",
            "\tMedian: 87.0\n",
            "\t50th percentile: 87.0\n",
            "\tStandard deviation: 27.510432934902727\n",
            "Baselinehistological staging:\n",
            "\tMax: 4\n",
            "\tMin: 1\n",
            "\tMean: 2.86046511627907\n",
            "\tMedian: 3.0\n",
            "\t50th percentile: 3.0\n",
            "\tStandard deviation: 1.0819161869844238\n"
          ],
          "name": "stdout"
        }
      ]
    },
    {
      "cell_type": "code",
      "metadata": {
        "id": "fnpADb7uhWai",
        "colab_type": "code",
        "colab": {
          "base_uri": "https://localhost:8080/",
          "height": 286
        },
        "outputId": "a43a88c4-9731-45f5-9108-247c56e6163f"
      },
      "source": [
        "from pandas.plotting import parallel_coordinates\n",
        "%matplotlib inline\n",
        "#figure(figsize=(50,70))\n",
        "\n",
        "parallel_coordinates(selected_data, 'Baselinehistological staging')"
      ],
      "execution_count": 95,
      "outputs": [
        {
          "output_type": "execute_result",
          "data": {
            "text/plain": [
              "<matplotlib.axes._subplots.AxesSubplot at 0x7fd38db127b8>"
            ]
          },
          "metadata": {
            "tags": []
          },
          "execution_count": 95
        },
        {
          "output_type": "display_data",
          "data": {
            "image/png": "[encoded data removed]",
            "text/plain": [
              "<Figure size 432x288 with 1 Axes>"
            ]
          },
          "metadata": {
            "tags": []
          }
        }
      ]
    }
  ]
}